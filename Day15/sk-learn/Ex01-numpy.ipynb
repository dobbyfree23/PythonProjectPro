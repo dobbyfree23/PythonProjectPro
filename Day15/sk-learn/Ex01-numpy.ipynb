{
 "cells": [
  {
   "cell_type": "code",
   "execution_count": 2,
   "metadata": {
    "collapsed": true
   },
   "outputs": [
    {
     "name": "stdout",
     "output_type": "stream",
     "text": [
      "[1 2 3 4 5]\n"
     ]
    }
   ],
   "source": [
    "import numpy as np\n",
    "\n",
    "# 1차원 배열 생성\n",
    "arr1 = np.array([1, 2, 3, 4, 5])\n",
    "print(arr1)"
   ]
  },
  {
   "cell_type": "code",
   "execution_count": 3,
   "outputs": [
    {
     "name": "stdout",
     "output_type": "stream",
     "text": [
      "[[1 2 3]\n",
      " [4 5 6]]\n"
     ]
    }
   ],
   "source": [
    "import numpy as np\n",
    "\n",
    "# 2차원 배열 생성\n",
    "arr2 = np.array([[1, 2, 3], [4, 5, 6]])\n",
    "print(arr2)"
   ],
   "metadata": {
    "collapsed": false
   }
  },
  {
   "cell_type": "code",
   "execution_count": 4,
   "outputs": [
    {
     "name": "stdout",
     "output_type": "stream",
     "text": [
      "[0. 0. 0. 0. 0.]\n"
     ]
    }
   ],
   "source": [
    "import numpy as np\n",
    "\n",
    "# 0으로 채워진 배열 생성\n",
    "arr3 = np.zeros(5)\n",
    "print(arr3)"
   ],
   "metadata": {
    "collapsed": false
   }
  },
  {
   "cell_type": "code",
   "execution_count": 5,
   "outputs": [
    {
     "name": "stdout",
     "output_type": "stream",
     "text": [
      "[[1. 1. 1.]\n",
      " [1. 1. 1.]]\n"
     ]
    }
   ],
   "source": [
    "import numpy as np\n",
    "\n",
    "# 1로 채워진 배열 생성\n",
    "arr4 = np.ones((2, 3))\n",
    "print(arr4)"
   ],
   "metadata": {
    "collapsed": false
   }
  },
  {
   "cell_type": "code",
   "execution_count": 6,
   "outputs": [
    {
     "name": "stdout",
     "output_type": "stream",
     "text": [
      "[[0.58225006 0.79060741 0.74825582]\n",
      " [0.74131572 0.26558025 0.00201074]]\n"
     ]
    }
   ],
   "source": [
    "import numpy as np\n",
    "\n",
    "# 랜덤한 값으로 채워진 배열 생성\n",
    "arr5 = np.random.rand(2, 3)\n",
    "print(arr5)"
   ],
   "metadata": {
    "collapsed": false
   }
  },
  {
   "cell_type": "code",
   "execution_count": 7,
   "outputs": [
    {
     "name": "stdout",
     "output_type": "stream",
     "text": [
      "[5 7 9]\n"
     ]
    }
   ],
   "source": [
    "import numpy as np\n",
    "\n",
    "# 배열 연산\n",
    "arr6 = np.array([1, 2, 3])\n",
    "arr7 = np.array([4, 5, 6])\n",
    "arr8 = arr6 + arr7\n",
    "print(arr8)\n"
   ],
   "metadata": {
    "collapsed": false
   }
  },
  {
   "cell_type": "code",
   "execution_count": 8,
   "outputs": [
    {
     "name": "stdout",
     "output_type": "stream",
     "text": [
      "[3 4]\n"
     ]
    }
   ],
   "source": [
    "import numpy as np\n",
    "\n",
    "# 배열 슬라이싱\n",
    "arr9 = np.array([1, 2, 3, 4, 5])\n",
    "arr10 = arr9[2:4]\n",
    "print(arr10)"
   ],
   "metadata": {
    "collapsed": false
   }
  },
  {
   "cell_type": "code",
   "execution_count": 9,
   "outputs": [
    {
     "name": "stdout",
     "output_type": "stream",
     "text": [
      "[1 4]\n"
     ]
    }
   ],
   "source": [
    "import numpy as np\n",
    "\n",
    "# 배열 인덱싱\n",
    "arr11 = np.array([1, 2, 3, 4, 5])\n",
    "arr12 = arr11[[0, 3]]\n",
    "print(arr12)\n"
   ],
   "metadata": {
    "collapsed": false
   }
  },
  {
   "cell_type": "code",
   "execution_count": 11,
   "outputs": [
    {
     "name": "stdout",
     "output_type": "stream",
     "text": [
      "[[1 2 3]\n",
      " [4 5 6]]\n"
     ]
    }
   ],
   "source": [
    "import numpy as np\n",
    "\n",
    "# 배열 형태 바꾸기\n",
    "arr13 = np.array([[1, 2], [3, 4], [5, 6]])\n",
    "arr14 = arr13.reshape(2, 3)\n",
    "print(arr14)\n"
   ],
   "metadata": {
    "collapsed": false
   }
  },
  {
   "cell_type": "code",
   "execution_count": 12,
   "outputs": [
    {
     "name": "stdout",
     "output_type": "stream",
     "text": [
      "[1 2 3 4 5]\n"
     ]
    }
   ],
   "source": [
    "import numpy as np\n",
    "\n",
    "# 배열 정렬하기\n",
    "arr15 = np.array([3, 1, 4, 2, 5])\n",
    "arr16 = np.sort(arr15)\n",
    "print(arr16)\n"
   ],
   "metadata": {
    "collapsed": false
   }
  },
  {
   "cell_type": "code",
   "execution_count": 13,
   "outputs": [
    {
     "name": "stdout",
     "output_type": "stream",
     "text": [
      "[5 7 9]\n"
     ]
    }
   ],
   "source": [
    "import numpy as np\n",
    "\n",
    "# 배열 연산 함수 사용\n",
    "arr17 = np.array([1, 2, 3])\n",
    "arr18 = np.array([4, 5, 6])\n",
    "arr19 = np.add(arr17, arr18)\n",
    "print(arr19)\n"
   ],
   "metadata": {
    "collapsed": false
   }
  },
  {
   "cell_type": "code",
   "execution_count": 14,
   "outputs": [
    {
     "name": "stdout",
     "output_type": "stream",
     "text": [
      "[1 2 3]\n"
     ]
    }
   ],
   "source": [
    "import numpy as np\n",
    "\n",
    "# 배열 복사하기\n",
    "arr20 = np.array([1, 2, 3])\n",
    "arr21 = arr20.copy()\n",
    "print(arr21)\n"
   ],
   "metadata": {
    "collapsed": false
   }
  },
  {
   "cell_type": "code",
   "execution_count": 15,
   "outputs": [
    {
     "name": "stdout",
     "output_type": "stream",
     "text": [
      "[[1]\n",
      " [2]\n",
      " [3]]\n"
     ]
    }
   ],
   "source": [
    "import numpy as np\n",
    "\n",
    "# 배열 차원 추가하기\n",
    "arr22 = np.array([1, 2, 3])\n",
    "arr23 = np.expand_dims(arr22, axis=1)\n",
    "print(arr23)\n"
   ],
   "metadata": {
    "collapsed": false
   }
  },
  {
   "cell_type": "code",
   "execution_count": 16,
   "outputs": [
    {
     "name": "stdout",
     "output_type": "stream",
     "text": [
      "[1 2 4 5]\n"
     ]
    }
   ],
   "source": [
    "import numpy as np\n",
    "\n",
    "# 배열 요소 지우기\n",
    "arr24 = np.array([1, 2, 3, 4, 5])\n",
    "arr25 = np.delete(arr24, 2)\n",
    "print(arr25)\n"
   ],
   "metadata": {
    "collapsed": false
   }
  },
  {
   "cell_type": "code",
   "execution_count": 17,
   "outputs": [
    {
     "name": "stdout",
     "output_type": "stream",
     "text": [
      "(array([2], dtype=int64),)\n"
     ]
    }
   ],
   "source": [
    "import numpy as np\n",
    "\n",
    "# 배열 요소 검색하기\n",
    "arr28 = np.array([1, 2, 3, 4, 5])\n",
    "arr29 = np.where(arr28 == 3)\n",
    "print(arr29)\n"
   ],
   "metadata": {
    "collapsed": false
   }
  },
  {
   "cell_type": "code",
   "execution_count": 18,
   "outputs": [
    {
     "name": "stdout",
     "output_type": "stream",
     "text": [
      "[1 2 3 4 5]\n"
     ]
    }
   ],
   "source": [
    "import numpy as np\n",
    "\n",
    "# 배열 요소 중복 제거하기\n",
    "arr30 = np.array([1, 2, 3, 1, 2, 3, 4, 5])\n",
    "arr31 = np.unique(arr30)\n",
    "print(arr31)\n"
   ],
   "metadata": {
    "collapsed": false
   }
  },
  {
   "cell_type": "code",
   "execution_count": 24,
   "outputs": [
    {
     "name": "stdout",
     "output_type": "stream",
     "text": [
      "[ 6 15]\n"
     ]
    }
   ],
   "source": [
    "import numpy as np\n",
    "\n",
    "# 배열 연산 축 지정하기\n",
    "arr32 = np.array([[1, 2, 3], [4, 5, 6]])\n",
    "arr33 = np.sum(arr32, axis=0)\n",
    "print(arr33)\n"
   ],
   "metadata": {
    "collapsed": false
   }
  },
  {
   "cell_type": "code",
   "execution_count": 22,
   "outputs": [
    {
     "name": "stdout",
     "output_type": "stream",
     "text": [
      "[1 2 3 4 5 6]\n"
     ]
    }
   ],
   "source": [
    "import numpy as np\n",
    "\n",
    "# 배열 병합하기\n",
    "arr34 = np.array([1, 2, 3])\n",
    "arr35 = np.array([4, 5, 6])\n",
    "arr36 = np.concatenate((arr34, arr35))\n",
    "print(arr36)\n"
   ],
   "metadata": {
    "collapsed": false
   }
  },
  {
   "cell_type": "code",
   "execution_count": 23,
   "outputs": [
    {
     "name": "stdout",
     "output_type": "stream",
     "text": [
      "[1 3 0 2 4]\n"
     ]
    }
   ],
   "source": [
    "import numpy as np\n",
    "\n",
    "# 배열 인덱스 정렬하기\n",
    "arr37 = np.array([3, 1, 4, 2, 5])\n",
    "arr38 = np.argsort(arr37)\n",
    "print(arr38)\n"
   ],
   "metadata": {
    "collapsed": false
   }
  },
  {
   "cell_type": "code",
   "execution_count": null,
   "outputs": [],
   "source": [],
   "metadata": {
    "collapsed": false
   }
  }
 ],
 "metadata": {
  "kernelspec": {
   "display_name": "Python 3",
   "language": "python",
   "name": "python3"
  },
  "language_info": {
   "codemirror_mode": {
    "name": "ipython",
    "version": 2
   },
   "file_extension": ".py",
   "mimetype": "text/x-python",
   "name": "python",
   "nbconvert_exporter": "python",
   "pygments_lexer": "ipython2",
   "version": "2.7.6"
  }
 },
 "nbformat": 4,
 "nbformat_minor": 0
}
