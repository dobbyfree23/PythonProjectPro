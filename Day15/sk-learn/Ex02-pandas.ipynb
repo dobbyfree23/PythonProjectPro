{
 "cells": [
  {
   "cell_type": "code",
   "execution_count": null,
   "metadata": {
    "collapsed": true
   },
   "outputs": [],
   "source": [
    "import pandas as pd\n",
    "\n",
    "# 딕셔너리를 사용하여 데이터프레임 생성하기\n",
    "data = {'이름': ['홍길동', '김철수', '이영희'],\n",
    "        '나이': [25, 30, 27],\n",
    "        '성별': ['남', '남', '여']}\n",
    "df = pd.DataFrame(data)\n",
    "print(df)\n"
   ]
  },
  {
   "cell_type": "code",
   "execution_count": null,
   "outputs": [],
   "source": [
    "import pandas as pd\n",
    "\n",
    "# CSV 파일에서 데이터프레임 읽어오기\n",
    "df = pd.read_csv('data.csv')\n",
    "print(df)\n"
   ],
   "metadata": {
    "collapsed": false
   }
  },
  {
   "cell_type": "code",
   "execution_count": null,
   "outputs": [],
   "source": [
    "import pandas as pd\n",
    "\n",
    "# 데이터프레임 생성\n",
    "data = {'이름': ['홍길동', '김철수', '이영희'],\n",
    "        '나이': [25, 30, 27],\n",
    "        '성별': ['남', '남', '여']}\n",
    "df = pd.DataFrame(data)\n",
    "\n",
    "# 열 선택하기\n",
    "age = df['나이']\n",
    "print(age)\n",
    "\n",
    "# 조건에 맞는 행 선택하기\n",
    "female = df[df['성별'] == '여']\n",
    "print(female)\n",
    "\n",
    "# 열 추가하기\n",
    "height = [175, 180, 165]\n",
    "df['키'] = height\n",
    "print(df)\n"
   ],
   "metadata": {
    "collapsed": false
   }
  },
  {
   "cell_type": "code",
   "execution_count": null,
   "outputs": [],
   "source": [
    "import pandas as pd\n",
    "\n",
    "# 첫 번째 데이터프레임 생성\n",
    "data1 = {'이름': ['홍길동', '김철수', '이영희'],\n",
    "         '나이': [25, 30, 27],\n",
    "         '성별': ['남', '남', '여']}\n",
    "df1 = pd.DataFrame(data1)\n",
    "\n",
    "# 두 번째 데이터프레임 생성\n",
    "data2 = {'이름': ['박민지', '최영수', '이재원'],\n",
    "         '나이': [22, 28, 26],\n",
    "         '성별': ['여', '남', '남']}\n",
    "df2 = pd.DataFrame(data2)\n",
    "\n",
    "# 두 데이터프레임 결합하기\n",
    "df = pd.concat([df1, df2], ignore_index=True)\n",
    "print(df)\n"
   ],
   "metadata": {
    "collapsed": false
   }
  },
  {
   "cell_type": "code",
   "execution_count": null,
   "outputs": [],
   "source": [
    "import pandas as pd\n",
    "\n",
    "# 첫 번째 데이터프레임 생성\n",
    "data1 = {'이름': ['홍길동', '김철수', '이영희'],\n",
    "         '나이': [25, 30, 27],\n",
    "         '성별': ['남', '남', '여']}\n",
    "df1 = pd.DataFrame(data1)\n",
    "\n",
    "# 두 번째 데이터프레임 생성\n",
    "data2 = {'이름': ['박민지', '최영수', '이재원'],\n",
    "         '전공': ['컴퓨터공학', '경영학', '수학'],\n",
    "         '학점': [3.5, 4.0, 3.0]}\n",
    "df2 = pd.DataFrame(data2)\n",
    "\n",
    "# 두 데이터프레임 결합하기\n",
    "df = pd.merge(df1, df2, on='이름')\n",
    "print(df)\n"
   ],
   "metadata": {
    "collapsed": false
   }
  },
  {
   "cell_type": "code",
   "execution_count": null,
   "outputs": [],
   "source": [
    "import pandas as pd\n",
    "\n",
    "# 데이터프레임 생성\n",
    "data = {'학과': ['컴퓨터공학', '경영학', '경영학', '컴퓨터공학', '경영학'],\n",
    "        '이름': ['홍길동', '김철수', '이영희', '박민지', '최영수'],\n",
    "        '학점': [3.5, 4.0, 3.0, 3.5, 4.0]}\n",
    "df = pd.DataFrame(data)\n",
    "\n",
    "# 학과별 평균 학점 계산하기\n",
    "grouped = df.groupby('학과')\n",
    "mean = grouped.mean()\n",
    "print(mean)\n",
    "\n",
    "# 학과별 최고 학점 계산하기\n",
    "max = grouped.max()\n",
    "print(max)\n",
    "\n",
    "# 학과별 학점 분포 알아보기\n",
    "describe = grouped.describe()\n",
    "print(describe)\n"
   ],
   "metadata": {
    "collapsed": false
   }
  },
  {
   "cell_type": "code",
   "execution_count": null,
   "outputs": [],
   "source": [],
   "metadata": {
    "collapsed": false
   }
  }
 ],
 "metadata": {
  "kernelspec": {
   "display_name": "Python 3",
   "language": "python",
   "name": "python3"
  },
  "language_info": {
   "codemirror_mode": {
    "name": "ipython",
    "version": 2
   },
   "file_extension": ".py",
   "mimetype": "text/x-python",
   "name": "python",
   "nbconvert_exporter": "python",
   "pygments_lexer": "ipython2",
   "version": "2.7.6"
  }
 },
 "nbformat": 4,
 "nbformat_minor": 0
}
